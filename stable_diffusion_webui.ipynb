{
  "cells": [
    {
      "cell_type": "markdown",
      "metadata": {
        "id": "view-in-github",
        "colab_type": "text"
      },
      "source": [
        "<a href=\"https://colab.research.google.com/github/ap0plexik/stable-diffusion-tutorial/blob/main/stable_diffusion_webui.ipynb\" target=\"_parent\"><img src=\"https://colab.research.google.com/assets/colab-badge.svg\" alt=\"Open In Colab\"/></a>"
      ]
    },
    {
      "cell_type": "markdown",
      "source": [
        "👆 *If you're viewing this in Github, click the \"Open in Colab\" button.*"
      ],
      "metadata": {
        "id": "s_Kk0QWEFxWG"
      }
    },
    {
      "cell_type": "markdown",
      "source": [
        "# Create AI Generated Images for Free with No Rules\n",
        "\n",
        "This code will let you use the stable-diffusion AI image generator on your own terms. You don't have to pay anyone for anything, and you can be as \\*ahem\\* creative as you want.\n",
        "\n",
        "*Dude, for real, don't use my work for evil. I'm trying to be a bro here by giving this to you for free and making it as easy as possible for you. Don't go and crap all over it by doing things that'll make the devil blush.*\n",
        "\n",
        "🔴 Before you go any further, go to the `File` menu under the title of this doc and click `Save a Copy In Drive`. Then you won't have to scour the internet trying to find it again."
      ],
      "metadata": {
        "id": "bNrin7S3PPtO"
      }
    },
    {
      "cell_type": "markdown",
      "source": [
        "## Important Information You Should Read Once"
      ],
      "metadata": {
        "id": "Tj8YwEcbbMIQ"
      }
    },
    {
      "cell_type": "markdown",
      "source": [
        "### What is so cool about this Colab notebook?\n",
        "\n",
        "Google Colab notebooks let you run computer stuff in a contained environment where you can do things step-by-step.\n",
        "\n",
        "🖥 Image generation takes a lot of computing power that the ThinkPad work gave you can't handle. Here, you'll be using computing resources hosted by Google, so the image generation process will actually work, not like it would trying to run this stuff on your pull-start paper-plate Acer netbook.\n",
        "\n",
        "💻 You won't use up your hard drive space. The images never touch your computer. They're generated online and saved online to your Google Drive.\n",
        "\n",
        "🧠 You'll learn something new. Once you get this up and running, play around with how the images are generated. If you screw something up, you didn't break your own computer.\n",
        "\n",
        "⭕ If you break something, go up to `Runtime`, then click `Disconnect and Delete Runtime`.  That let's you start over fresh.  Note that you'll lose any images that you've generated that haven't already been exported to your Drive.\n",
        "\n",
        "*Be sure to read the credits and disclaimer the very end. I'm serious, but we both know you won't do that.*\n",
        "\n",
        "### What the Heck is Going On Here?\n",
        "\n",
        "First, in the Setup step, you'll connect to your Google Drive so you can download the billions of images you generate into online storage.  Then, you'll run the code to download and set up all the files you need to run a handy website-style experience to generate the images.\n",
        "\n",
        "In the Launch step, you'll fire off the handy website-style user interface, and get the URL where you can do your work.\n",
        "\n",
        "Finally, you'll tell the images to go from the website thingy and into your Google Drive.\n",
        "\n",
        "### Tools We're Using\n",
        "\n",
        "[Stable Diffusion](https://github.com/Stability-AI/stablediffusion#readme) is basically like Midjourney, but you don't have to use it on Discord and with their rules.  People can make all kinds of mods for it, and you can run it however you want. Pretty rad, huh?\n",
        "\n",
        "AUTOMATIC1111 made this awesome tool, [Stable Diffusion Web UI](https://github.com/AUTOMATIC1111/stable-diffusion-webui#readme), for taking Stable Diffusion into a web browser where you can click on stuff instead of typing in commands in the terminal."
      ],
      "metadata": {
        "id": "lvf-D_cTUVRg"
      }
    },
    {
      "cell_type": "markdown",
      "source": [
        "## Setup"
      ],
      "metadata": {
        "id": "8YNVh97SJLK0"
      }
    },
    {
      "cell_type": "markdown",
      "source": [
        "🐙 Connect to Google Drive\n",
        "\n",
        "*This is done privately, so don't worry that I'm gonna be snooping around your nasty hentai collection in there. I don't wanna see that. Nobody wants to see that.  In fact, __you__ should probably see a doctor or maybe even a priest about that tentacle obsession.*"
      ],
      "metadata": {
        "id": "UUFaWPZ8GeVP"
      }
    },
    {
      "cell_type": "code",
      "source": [
        "# Connect to your Google Drive.\n",
        "from google.colab import drive\n",
        "drive.mount('/content/drive/')"
      ],
      "metadata": {
        "id": "Lufa0OCWxVR0"
      },
      "execution_count": null,
      "outputs": []
    },
    {
      "cell_type": "markdown",
      "source": [
        "📁 View your folders\n",
        "\n",
        "*Click the folder icon on the very left of the screen to the file setup on this machine. Notice you'll have a `drive/MyDrive` folder.  That's your Google Drive, you sicko.*"
      ],
      "metadata": {
        "id": "6PAhm5fKInLY"
      }
    },
    {
      "cell_type": "markdown",
      "source": [
        "🧊 Load up the interface.\n",
        "\n",
        "🕰  *This is going to take a couple of minutes to run. Be patient. It's downloading like 30GB of stuff super fast. You should be grateful. People used to have to wait literally months for like two handwritten sentences to find out their sweetheart had died at sea of scurvy.*\n",
        "\n",
        "💃 *Also, this is going to print out a lot of status updates below.  Don't worry about that. It's gonna complain about how stuff failed to download or that files already exist or how the marxist libs want to turn all of our kids into drag queens by teaching them the crt in schools. Just let it whine.*"
      ],
      "metadata": {
        "id": "DgVIpPzeHGpv"
      }
    },
    {
      "cell_type": "code",
      "source": [
        "!apt-get -y install -qq aria2\n",
        "!pip install -q https://github.com/camenduru/stable-diffusion-webui-colab/releases/download/0.0.16/xformers-0.0.16+814314d.d20230118-cp38-cp38-linux_x86_64.whl\n",
        "!pip install -q --pre triton\n",
        "\n",
        "!git clone -b v1.6 https://github.com/camenduru/stable-diffusion-webui\n",
        "!wget https://raw.githubusercontent.com/camenduru/stable-diffusion-webui-scripts/main/run_n_times.py -O /content/stable-diffusion-webui/scripts/run_n_times.py\n",
        "!git clone -b v1.6 https://github.com/camenduru/deforum-for-automatic1111-webui /content/stable-diffusion-webui/extensions/deforum-for-automatic1111-webui\n",
        "!git clone -b v1.6 https://github.com/camenduru/stable-diffusion-webui-images-browser /content/stable-diffusion-webui/extensions/stable-diffusion-webui-images-browser\n",
        "!git clone -b v1.6 https://github.com/camenduru/stable-diffusion-webui-huggingface /content/stable-diffusion-webui/extensions/stable-diffusion-webui-huggingface\n",
        "!git clone -b v1.6 https://github.com/camenduru/sd-civitai-browser /content/stable-diffusion-webui/extensions/sd-civitai-browser\n",
        "!git clone -b v1.6 https://github.com/camenduru/sd-webui-additional-networks /content/stable-diffusion-webui/extensions/sd-webui-additional-networks\n",
        "%cd /content/stable-diffusion-webui\n",
        "\n",
        "!aria2c --console-log-level=error -c -x 16 -s 16 -k 1M https://huggingface.co/ckpt/stable-diffusion-2-1/resolve/main/v2-1_768-ema-pruned.ckpt -d /content/stable-diffusion-webui/models/Stable-diffusion -o v2-1_768-ema-pruned.ckpt\n",
        "!aria2c --console-log-level=error -c -x 16 -s 16 -k 1M https://huggingface.co/ckpt/stable-diffusion-2-1/raw/main/v2-inference-v.yaml -d /content/stable-diffusion-webui/models/Stable-diffusion -o v2-1_768-ema-pruned.yaml\n",
        "\n",
        "!aria2c --console-log-level=error -c -x 16 -s 16 -k 1M https://huggingface.co/joachimsallstrom/Double-Exposure-Embedding/resolve/main/dblx.pt -d /content/stable-diffusion-webui/embeddings -o dblx.pt\n",
        "!aria2c --console-log-level=error -c -x 16 -s 16 -k 1M https://huggingface.co/Conflictx/AnimeScreencap/resolve/main/AnimeScreenCap.pt -d /content/stable-diffusion-webui/embeddings -o AnimeScreenCap.pt\n",
        "\n",
        "!sed -i -e '''/prepare_environment()/a\\    os.system\\(f\\\"\"\"sed -i -e ''\\\"s/self.logvar\\\\[t\\\\]/self.logvar\\\\[t.item()\\\\]/g\\\"'' /content/stable-diffusion-webui/repositories/stable-diffusion-stability-ai/ldm/models/diffusion/ddpm.py\"\"\")''' /content/stable-diffusion-webui/launch.py\n",
        "!sed -i -e '''/prepare_environment()/a\\    os.system\\(f\\\"\"\"sed -i -e ''\\\"s/dict()))/dict())).cuda()/g\\\"'' /content/stable-diffusion-webui/repositories/stable-diffusion-stability-ai/ldm/util.py\"\"\")''' /content/stable-diffusion-webui/launch.py\n",
        "!sed -i '$a fastapi==0.90.0' requirements_versions.txt\n",
        "!python launch.py --share --xformers --enable-insecure-extension-access"
      ],
      "metadata": {
        "id": "8RPtAoOmcO2p"
      },
      "execution_count": null,
      "outputs": []
    },
    {
      "cell_type": "markdown",
      "source": [
        "## Launch Stable Diffusion WebUI"
      ],
      "metadata": {
        "id": "grwy9K4aJRs5"
      }
    },
    {
      "cell_type": "markdown",
      "source": [
        "⚪ Push the play button on this code block to launch WebUI.  If something breaks, you can always stop/restart this code block. Everything you've done so far *should* be still there.\n",
        "\n",
        "🔴 The code output below will contain some text with a link that will open the actual image generator.\n",
        "\n",
        "It will look like this:\n",
        "\n",
        "`Running on public URL: https://blahblahblah.gradio.app`\n",
        "\n",
        "Click it. 👆\n",
        "\n",
        "📁 *Your images will be saved inside the `stable-diffusion-webui/outputs/` folder on the left. Most of them will probably be inside the `txt2img-images` subfolder. If they're not, then you probably messed something up and you're a bad person... or not. I can't be responsible for you mucking this up.*"
      ],
      "metadata": {
        "id": "YpFVowRaDlD5"
      }
    },
    {
      "cell_type": "code",
      "source": [
        "# Keep this command separate so that all of the stuff you already downloaded \n",
        "# above and the files you created and all your settings don't get wiped when\n",
        "# you restart WebUI. She can be a fickle mistress.\n",
        "\n",
        "# Launch it.\n",
        "!python launch.py --share --xformers --enable-insecure-extension-access"
      ],
      "metadata": {
        "id": "C6rmztrCxMQq"
      },
      "execution_count": null,
      "outputs": []
    },
    {
      "cell_type": "markdown",
      "source": [
        "## Export your Images to Drive\n",
        "  \n",
        "⚪ After you have stopped the previous code block, run this one and it will send your stuff over to your Google Drive.\n",
        "\n",
        "🚢 It will take everything in your `stable-diffusion-webui/outputs/` folder (including the subfolders), and send it into the Google Drive folder that you designated. \n",
        "\n",
        "*Note that the `mv` (\"move\") command will remove the stuff from the first location and put it into the second location.  This means if your second location is wrong, you just vaporized all of your work.*\n",
        "\n",
        "*The `cp` command means \"copy\" (not whatever else you think it stands for, you degenerate), and it just makes a copy and puts it in your drive folder.  This is a bit safer, but it means the files you generate here will pile up on your Disk and take up space.*\n"
      ],
      "metadata": {
        "id": "Rooiz4S_JF4H"
      }
    },
    {
      "cell_type": "code",
      "source": [
        "# Send it to Drive.\n",
        "# Be sure to make sure you have a folder in Google Drive called 'images'.\n",
        "# Don't uncomment both commands and run this. You're not gonna have a good time.\n",
        "\n",
        "# Uncomment to move files to Drive and remove them from the WebUI.\n",
        "# !mv -v /content/stable-diffusion-webui/outputs/txt2img-images/* /content/drive/MyDrive/images/\n",
        "\n",
        "# This just sends a copy to Google Drive. Doesn't delete anything inside WebUI.\n",
        "!cp -v /content/stable-diffusion-webui/outputs/**/* /content/drive/MyDrive/images/"
      ],
      "metadata": {
        "id": "gId3RGh4xD_4"
      },
      "execution_count": null,
      "outputs": []
    },
    {
      "cell_type": "markdown",
      "source": [
        "## Credits & Disclaimer\n",
        "\n",
        "[Stable Diffusion](https://github.com/Stability-AI/stablediffusion#readme)\n",
        "\n",
        "AUTOMATIC1111's [Stable Diffusion Web UI](https://github.com/AUTOMATIC1111/stable-diffusion-webui#readme).\n",
        "\n",
        "This colab notebook started out as one authored by [camenduru](https://github.com/camenduru/stable-diffusion-webui-colab). They're not responsible for what either you or me do with it, but they deserve credit for laying some really useful groundwork for others to build on.\n",
        "\n",
        "💀 *Finally, again, dude, don't do evil. It's pretty sad we live in a world where I have to say that out loud. The things you make with this can hurt other people, and even hurt yourself.*\n",
        "\n",
        "*Oh, and about that tentacle hentai...*"
      ],
      "metadata": {
        "id": "1o8mnZIfTORB"
      }
    }
  ],
  "metadata": {
    "accelerator": "GPU",
    "colab": {
      "private_outputs": true,
      "provenance": [],
      "collapsed_sections": [
        "8YNVh97SJLK0",
        "grwy9K4aJRs5"
      ],
      "include_colab_link": true
    },
    "gpuClass": "standard",
    "kernelspec": {
      "display_name": "Python 3",
      "name": "python3"
    },
    "language_info": {
      "name": "python"
    }
  },
  "nbformat": 4,
  "nbformat_minor": 0
}